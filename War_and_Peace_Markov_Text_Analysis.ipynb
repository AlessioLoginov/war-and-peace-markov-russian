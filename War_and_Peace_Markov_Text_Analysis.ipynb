{
  "nbformat": 4,
  "nbformat_minor": 0,
  "metadata": {
    "colab": {
      "provenance": []
    },
    "kernelspec": {
      "name": "python3",
      "display_name": "Python 3"
    },
    "language_info": {
      "name": "python"
    }
  },
  "cells": [
    {
      "cell_type": "markdown",
      "source": [
        "#Загрузка и очистка текста"
      ],
      "metadata": {
        "id": "JPpUYo9r0nv4"
      }
    },
    {
      "cell_type": "code",
      "source": [
        "from google.colab import files\n",
        "import re\n",
        "\n",
        "# Загрузка файлов пользователем\n",
        "uploaded = files.upload()  # Выберите все 4 файла: tom_1.txt, tom_2.txt, tom_3.txt, tom_4.txt\n",
        "\n",
        "# Объединение текстов из всех файлов\n",
        "full_text = ''\n",
        "for filename in uploaded.keys():\n",
        "    with open(filename, encoding='utf-8') as f:\n",
        "        full_text += f.read()\n",
        "\n",
        "# Приведение к нижнему регистру\n",
        "full_text = full_text.lower()\n",
        "\n",
        "# Оставляем только русские буквы и пробелы\n",
        "cleaned_text = re.sub(r'[^а-яё ]', '', full_text)\n",
        "\n",
        "# Удаляем лишние пробелы (например, множественные пробелы)\n",
        "cleaned_text = re.sub(r'\\s+', ' ', cleaned_text)\n",
        "\n",
        "# Выводим первые 500 символов для визуальной проверки\n",
        "print(cleaned_text[:500])\n"
      ],
      "metadata": {
        "colab": {
          "base_uri": "https://localhost:8080/",
          "height": 213
        },
        "id": "jYF6HHBM0r_Q",
        "outputId": "2b7a623b-d511-4dc4-d24e-d01d19e4c922"
      },
      "execution_count": 1,
      "outputs": [
        {
          "output_type": "display_data",
          "data": {
            "text/plain": [
              "<IPython.core.display.HTML object>"
            ],
            "text/html": [
              "\n",
              "     <input type=\"file\" id=\"files-95b09033-695b-4f46-9331-d6fcc891eea8\" name=\"files[]\" multiple disabled\n",
              "        style=\"border:none\" />\n",
              "     <output id=\"result-95b09033-695b-4f46-9331-d6fcc891eea8\">\n",
              "      Upload widget is only available when the cell has been executed in the\n",
              "      current browser session. Please rerun this cell to enable.\n",
              "      </output>\n",
              "      <script>// Copyright 2017 Google LLC\n",
              "//\n",
              "// Licensed under the Apache License, Version 2.0 (the \"License\");\n",
              "// you may not use this file except in compliance with the License.\n",
              "// You may obtain a copy of the License at\n",
              "//\n",
              "//      http://www.apache.org/licenses/LICENSE-2.0\n",
              "//\n",
              "// Unless required by applicable law or agreed to in writing, software\n",
              "// distributed under the License is distributed on an \"AS IS\" BASIS,\n",
              "// WITHOUT WARRANTIES OR CONDITIONS OF ANY KIND, either express or implied.\n",
              "// See the License for the specific language governing permissions and\n",
              "// limitations under the License.\n",
              "\n",
              "/**\n",
              " * @fileoverview Helpers for google.colab Python module.\n",
              " */\n",
              "(function(scope) {\n",
              "function span(text, styleAttributes = {}) {\n",
              "  const element = document.createElement('span');\n",
              "  element.textContent = text;\n",
              "  for (const key of Object.keys(styleAttributes)) {\n",
              "    element.style[key] = styleAttributes[key];\n",
              "  }\n",
              "  return element;\n",
              "}\n",
              "\n",
              "// Max number of bytes which will be uploaded at a time.\n",
              "const MAX_PAYLOAD_SIZE = 100 * 1024;\n",
              "\n",
              "function _uploadFiles(inputId, outputId) {\n",
              "  const steps = uploadFilesStep(inputId, outputId);\n",
              "  const outputElement = document.getElementById(outputId);\n",
              "  // Cache steps on the outputElement to make it available for the next call\n",
              "  // to uploadFilesContinue from Python.\n",
              "  outputElement.steps = steps;\n",
              "\n",
              "  return _uploadFilesContinue(outputId);\n",
              "}\n",
              "\n",
              "// This is roughly an async generator (not supported in the browser yet),\n",
              "// where there are multiple asynchronous steps and the Python side is going\n",
              "// to poll for completion of each step.\n",
              "// This uses a Promise to block the python side on completion of each step,\n",
              "// then passes the result of the previous step as the input to the next step.\n",
              "function _uploadFilesContinue(outputId) {\n",
              "  const outputElement = document.getElementById(outputId);\n",
              "  const steps = outputElement.steps;\n",
              "\n",
              "  const next = steps.next(outputElement.lastPromiseValue);\n",
              "  return Promise.resolve(next.value.promise).then((value) => {\n",
              "    // Cache the last promise value to make it available to the next\n",
              "    // step of the generator.\n",
              "    outputElement.lastPromiseValue = value;\n",
              "    return next.value.response;\n",
              "  });\n",
              "}\n",
              "\n",
              "/**\n",
              " * Generator function which is called between each async step of the upload\n",
              " * process.\n",
              " * @param {string} inputId Element ID of the input file picker element.\n",
              " * @param {string} outputId Element ID of the output display.\n",
              " * @return {!Iterable<!Object>} Iterable of next steps.\n",
              " */\n",
              "function* uploadFilesStep(inputId, outputId) {\n",
              "  const inputElement = document.getElementById(inputId);\n",
              "  inputElement.disabled = false;\n",
              "\n",
              "  const outputElement = document.getElementById(outputId);\n",
              "  outputElement.innerHTML = '';\n",
              "\n",
              "  const pickedPromise = new Promise((resolve) => {\n",
              "    inputElement.addEventListener('change', (e) => {\n",
              "      resolve(e.target.files);\n",
              "    });\n",
              "  });\n",
              "\n",
              "  const cancel = document.createElement('button');\n",
              "  inputElement.parentElement.appendChild(cancel);\n",
              "  cancel.textContent = 'Cancel upload';\n",
              "  const cancelPromise = new Promise((resolve) => {\n",
              "    cancel.onclick = () => {\n",
              "      resolve(null);\n",
              "    };\n",
              "  });\n",
              "\n",
              "  // Wait for the user to pick the files.\n",
              "  const files = yield {\n",
              "    promise: Promise.race([pickedPromise, cancelPromise]),\n",
              "    response: {\n",
              "      action: 'starting',\n",
              "    }\n",
              "  };\n",
              "\n",
              "  cancel.remove();\n",
              "\n",
              "  // Disable the input element since further picks are not allowed.\n",
              "  inputElement.disabled = true;\n",
              "\n",
              "  if (!files) {\n",
              "    return {\n",
              "      response: {\n",
              "        action: 'complete',\n",
              "      }\n",
              "    };\n",
              "  }\n",
              "\n",
              "  for (const file of files) {\n",
              "    const li = document.createElement('li');\n",
              "    li.append(span(file.name, {fontWeight: 'bold'}));\n",
              "    li.append(span(\n",
              "        `(${file.type || 'n/a'}) - ${file.size} bytes, ` +\n",
              "        `last modified: ${\n",
              "            file.lastModifiedDate ? file.lastModifiedDate.toLocaleDateString() :\n",
              "                                    'n/a'} - `));\n",
              "    const percent = span('0% done');\n",
              "    li.appendChild(percent);\n",
              "\n",
              "    outputElement.appendChild(li);\n",
              "\n",
              "    const fileDataPromise = new Promise((resolve) => {\n",
              "      const reader = new FileReader();\n",
              "      reader.onload = (e) => {\n",
              "        resolve(e.target.result);\n",
              "      };\n",
              "      reader.readAsArrayBuffer(file);\n",
              "    });\n",
              "    // Wait for the data to be ready.\n",
              "    let fileData = yield {\n",
              "      promise: fileDataPromise,\n",
              "      response: {\n",
              "        action: 'continue',\n",
              "      }\n",
              "    };\n",
              "\n",
              "    // Use a chunked sending to avoid message size limits. See b/62115660.\n",
              "    let position = 0;\n",
              "    do {\n",
              "      const length = Math.min(fileData.byteLength - position, MAX_PAYLOAD_SIZE);\n",
              "      const chunk = new Uint8Array(fileData, position, length);\n",
              "      position += length;\n",
              "\n",
              "      const base64 = btoa(String.fromCharCode.apply(null, chunk));\n",
              "      yield {\n",
              "        response: {\n",
              "          action: 'append',\n",
              "          file: file.name,\n",
              "          data: base64,\n",
              "        },\n",
              "      };\n",
              "\n",
              "      let percentDone = fileData.byteLength === 0 ?\n",
              "          100 :\n",
              "          Math.round((position / fileData.byteLength) * 100);\n",
              "      percent.textContent = `${percentDone}% done`;\n",
              "\n",
              "    } while (position < fileData.byteLength);\n",
              "  }\n",
              "\n",
              "  // All done.\n",
              "  yield {\n",
              "    response: {\n",
              "      action: 'complete',\n",
              "    }\n",
              "  };\n",
              "}\n",
              "\n",
              "scope.google = scope.google || {};\n",
              "scope.google.colab = scope.google.colab || {};\n",
              "scope.google.colab._files = {\n",
              "  _uploadFiles,\n",
              "  _uploadFilesContinue,\n",
              "};\n",
              "})(self);\n",
              "</script> "
            ]
          },
          "metadata": {}
        },
        {
          "output_type": "stream",
          "name": "stdout",
          "text": [
            "Saving tom_1.txt to tom_1.txt\n",
            "Saving tom_2.txt to tom_2.txt\n",
            "Saving tom_3.txt to tom_3.txt\n",
            "Saving tom_4.txt to tom_4.txt\n",
            "лев толстойвойна и миртом том часть перваячасть ораячасть третья том лев николаевич толстойвойна и миртом часть первая е поместья мой верный раб ну что князь генуа и лукка стали не больше как поместьями фамилии бонапарте нет я вас предупреждаю если вы мне не скажете что у нас война если вы еще позволите себе защищать все гадости все ужасы этого антихриста право я верю что он антихрист я вас больше не знаю вы уж не друг мой вы уж не мой верный раб как вы говорите ну здравствуйте здравствуйте я ви\n"
          ]
        }
      ]
    },
    {
      "cell_type": "markdown",
      "source": [
        "Построим матрицу переходных вероятностей — посимвольно (одна буква → следующая)"
      ],
      "metadata": {
        "id": "5oiKHqeb1Kad"
      }
    },
    {
      "cell_type": "code",
      "source": [
        "from collections import defaultdict\n",
        "\n",
        "# Шаг 1: считаем частоты переходов символов\n",
        "transition_counts = defaultdict(lambda: defaultdict(int))\n",
        "\n",
        "# Проходим по всем парам символов\n",
        "for i in range(len(cleaned_text) - 1):\n",
        "    current_char = cleaned_text[i]\n",
        "    next_char = cleaned_text[i + 1]\n",
        "    transition_counts[current_char][next_char] += 1\n"
      ],
      "metadata": {
        "id": "7eClslwn1O17"
      },
      "execution_count": 2,
      "outputs": []
    },
    {
      "cell_type": "code",
      "source": [
        "# Преобразуем частоты в вероятности\n",
        "transition_probs = {}\n",
        "\n",
        "for current_char, next_chars in transition_counts.items():\n",
        "    total = sum(next_chars.values())\n",
        "    transition_probs[current_char] = {\n",
        "        char: count / total for char, count in next_chars.items()\n",
        "    }\n"
      ],
      "metadata": {
        "id": "6Qk73LmG1UEd"
      },
      "execution_count": 3,
      "outputs": []
    },
    {
      "cell_type": "markdown",
      "source": [
        "Проверка (например, для буквы \"в\")"
      ],
      "metadata": {
        "id": "44CTgT6J1ZAd"
      }
    },
    {
      "cell_type": "code",
      "source": [
        "for next_char, prob in transition_probs['в'].items():\n",
        "    print(f\"'в' → '{next_char}': {prob:.4f}\")\n"
      ],
      "metadata": {
        "colab": {
          "base_uri": "https://localhost:8080/"
        },
        "id": "0bbyfY3_1bY-",
        "outputId": "a068909b-9a2d-425c-a314-19e6645686f7"
      },
      "execution_count": 4,
      "outputs": [
        {
          "output_type": "stream",
          "name": "stdout",
          "text": [
            "'в' → ' ': 0.1633\n",
            "'в' → 'о': 0.1900\n",
            "'в' → 'а': 0.1390\n",
            "'в' → 'и': 0.0790\n",
            "'в' → 'е': 0.1116\n",
            "'в' → 'ы': 0.0638\n",
            "'в' → 'с': 0.0785\n",
            "'в' → 'у': 0.0206\n",
            "'в' → 'л': 0.0264\n",
            "'в' → 'н': 0.0284\n",
            "'в' → 'ш': 0.0300\n",
            "'в' → 'ь': 0.0041\n",
            "'в' → 'р': 0.0161\n",
            "'в' → 'я': 0.0052\n",
            "'в' → 'б': 0.0004\n",
            "'в' → 'д': 0.0078\n",
            "'в' → 'м': 0.0034\n",
            "'в' → 'з': 0.0125\n",
            "'в' → 'к': 0.0035\n",
            "'в' → 'п': 0.0063\n",
            "'в' → 'т': 0.0051\n",
            "'в' → 'х': 0.0011\n",
            "'в' → 'в': 0.0010\n",
            "'в' → 'г': 0.0010\n",
            "'в' → 'ц': 0.0003\n",
            "'в' → 'ч': 0.0010\n",
            "'в' → 'ъ': 0.0003\n",
            "'в' → 'э': 0.0000\n",
            "'в' → 'щ': 0.0001\n",
            "'в' → 'ю': 0.0000\n",
            "'в' → 'ж': 0.0000\n",
            "'в' → 'ё': 0.0000\n"
          ]
        }
      ]
    },
    {
      "cell_type": "markdown",
      "source": [
        "#Найти вероятность появления строки из 4 букв, начинающейся на «П» и заканчивающей на «Р»"
      ],
      "metadata": {
        "id": "ZPG9zZAt1mau"
      }
    },
    {
      "cell_type": "code",
      "source": [
        "total_probability = 0\n",
        "\n",
        "# Все возможные символы в алфавите (те, что реально встречаются)\n",
        "alphabet = list(transition_probs.keys())\n",
        "\n",
        "for c1 in alphabet:\n",
        "    for c2 in alphabet:\n",
        "        try:\n",
        "            # Вероятность перехода п → c1 → c2 → р\n",
        "            prob = (transition_probs['п'][c1] *\n",
        "                    transition_probs[c1][c2] *\n",
        "                    transition_probs[c2]['р'])\n",
        "            total_probability += prob\n",
        "        except KeyError:\n",
        "            # Если какой-то переход невозможен — пропускаем\n",
        "            continue\n",
        "\n",
        "print(f\"Суммарная вероятность строки вида 'п _ _ р': {total_probability:.8f}\")\n"
      ],
      "metadata": {
        "colab": {
          "base_uri": "https://localhost:8080/"
        },
        "id": "w4wqD1bp1vJH",
        "outputId": "138d6714-32b2-4928-b255-c8bfcffd353e"
      },
      "execution_count": 5,
      "outputs": [
        {
          "output_type": "stream",
          "name": "stdout",
          "text": [
            "Суммарная вероятность строки вида 'п _ _ р': 0.03253130\n"
          ]
        }
      ]
    },
    {
      "cell_type": "markdown",
      "source": [
        "Вероятность встретить строку длины 4, начинающуюся на «п» и заканчивающуюся на «р», по построенной матрице переходных вероятностей составляет:\n",
        "\n",
        "0.0325 ≈ 3.25%"
      ],
      "metadata": {
        "id": "Y9YJDm8z1-W-"
      }
    },
    {
      "cell_type": "markdown",
      "source": [
        "#Сгенерируем слово длиной 8 символов, начинающееся с «б», используя нашу матрицу как цепь Маркова."
      ],
      "metadata": {
        "id": "Q1YJTH2l2GUG"
      }
    },
    {
      "cell_type": "code",
      "source": [
        "import random\n",
        "\n",
        "# Начальная буква\n",
        "current_char = 'б'\n",
        "generated = current_char\n",
        "\n",
        "# Генерируем ещё 7 букв по переходной вероятности\n",
        "for _ in range(7):\n",
        "    next_chars = list(transition_probs[current_char].keys())\n",
        "    probabilities = list(transition_probs[current_char].values())\n",
        "    current_char = random.choices(next_chars, weights=probabilities)[0]\n",
        "    generated += current_char\n",
        "\n",
        "print(f\"Сгенерированное слово: {generated}\")\n"
      ],
      "metadata": {
        "colab": {
          "base_uri": "https://localhost:8080/"
        },
        "id": "5czcFRyw2L13",
        "outputId": "3e1f3d9a-c4e5-493b-d937-9fe827311ac3"
      },
      "execution_count": 6,
      "outputs": [
        {
          "output_type": "stream",
          "name": "stdout",
          "text": [
            "Сгенерированное слово: бей сиве\n"
          ]
        }
      ]
    },
    {
      "cell_type": "markdown",
      "source": [
        "Чтобы получить реально \"одно слово\" без пробелов, мы просто будем игнорировать все переходы, ведущие к пробелу во время генерации."
      ],
      "metadata": {
        "id": "897GZe0k2ga6"
      }
    },
    {
      "cell_type": "code",
      "source": [
        "import random\n",
        "\n",
        "# Начинаем с буквы 'б'\n",
        "current_char = 'б'\n",
        "generated = current_char\n",
        "\n",
        "for _ in range(7):\n",
        "    # Получаем возможные следующие символы и вероятности\n",
        "    next_chars = []\n",
        "    probs = []\n",
        "\n",
        "    for char, prob in transition_probs[current_char].items():\n",
        "        if char != ' ':  # игнорируем пробелы\n",
        "            next_chars.append(char)\n",
        "            probs.append(prob)\n",
        "\n",
        "    # Если нет куда идти — прерываем\n",
        "    if not next_chars:\n",
        "        break\n",
        "\n",
        "    # Выбираем следующий символ\n",
        "    current_char = random.choices(next_chars, weights=probs)[0]\n",
        "    generated += current_char\n",
        "\n",
        "print(f\"Слово без пробелов: {generated}\")\n"
      ],
      "metadata": {
        "colab": {
          "base_uri": "https://localhost:8080/"
        },
        "id": "wRz4dmEA2jLm",
        "outputId": "f4ce0bb7-328e-4a68-df36-8a37296978b4"
      },
      "execution_count": 7,
      "outputs": [
        {
          "output_type": "stream",
          "name": "stdout",
          "text": [
            "Слово без пробелов: брышлыве\n"
          ]
        }
      ]
    }
  ]
}